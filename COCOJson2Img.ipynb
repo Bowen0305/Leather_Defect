{
 "cells": [
  {
   "cell_type": "code",
   "execution_count": 1,
   "metadata": {},
   "outputs": [],
   "source": [
    "import matplotlib.pyplot as plt\n",
    "import numpy as np\n",
    "import cv2 as cv\n",
    "from pycocotools.coco import COCO\n",
    "import re"
   ]
  },
  {
   "cell_type": "code",
   "execution_count": 2,
   "metadata": {},
   "outputs": [
    {
     "name": "stdout",
     "output_type": "stream",
     "text": [
      "loading annotations into memory...\n",
      "Done (t=0.01s)\n",
      "creating index...\n",
      "index created!\n"
     ]
    }
   ],
   "source": [
    "coco = COCO('black_annotations.coco.json')\n",
    "path = 'data/DATASET/ground_truth/black/'"
   ]
  },
  {
   "cell_type": "code",
   "execution_count": 3,
   "metadata": {},
   "outputs": [],
   "source": [
    "for i in coco.getImgIds():\n",
    "    image_info = coco.loadImgs(i)[0]\n",
    "    anns = coco.loadAnns(coco.getAnnIds(imgIds = i))\n",
    "    mask = np.zeros((image_info['height'] , image_info['width']) , dtype = 'uint8')\n",
    "    for ann in anns:\n",
    "        mask += coco.annToMask(ann)\n",
    "    file_name = re.findall('(.+)_jpg.rf' , image_info['file_name'])[0] + '_truth.jpg'\n",
    "    cv.imwrite(path + file_name, mask * 255)"
   ]
  },
  {
   "cell_type": "code",
   "execution_count": null,
   "metadata": {},
   "outputs": [],
   "source": []
  }
 ],
 "metadata": {
  "kernelspec": {
   "display_name": "Python 3",
   "language": "python",
   "name": "python3"
  },
  "language_info": {
   "codemirror_mode": {
    "name": "ipython",
    "version": 3
   },
   "file_extension": ".py",
   "mimetype": "text/x-python",
   "name": "python",
   "nbconvert_exporter": "python",
   "pygments_lexer": "ipython3",
   "version": "3.7.6"
  }
 },
 "nbformat": 4,
 "nbformat_minor": 5
}
